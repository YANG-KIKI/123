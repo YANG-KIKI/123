{
 "cells": [
  {
   "cell_type": "code",
   "execution_count": 50,
   "id": "c4f70951",
   "metadata": {},
   "outputs": [],
   "source": [
    "class Model:\n",
    "    \n",
    "    def __init__(self):\n",
    "        self.__private = '1234weqdkjashd'\n",
    "        \n",
    "        \n",
    "    @property\n",
    "    def private(self):\n",
    "        return self.__private"
   ]
  },
  {
   "cell_type": "code",
   "execution_count": 51,
   "id": "06814e8d",
   "metadata": {},
   "outputs": [],
   "source": [
    "model = Model()"
   ]
  },
  {
   "cell_type": "code",
   "execution_count": 42,
   "id": "f3ed02d8",
   "metadata": {},
   "outputs": [
    {
     "data": {
      "text/plain": [
       "False"
      ]
     },
     "execution_count": 42,
     "metadata": {},
     "output_type": "execute_result"
    }
   ],
   "source": [
    "model.private"
   ]
  },
  {
   "cell_type": "code",
   "execution_count": 43,
   "id": "d5924dca",
   "metadata": {},
   "outputs": [],
   "source": [
    "model.__private = True"
   ]
  },
  {
   "cell_type": "code",
   "execution_count": 44,
   "id": "e1d781d2",
   "metadata": {},
   "outputs": [
    {
     "data": {
      "text/plain": [
       "True"
      ]
     },
     "execution_count": 44,
     "metadata": {},
     "output_type": "execute_result"
    }
   ],
   "source": [
    "model.__private"
   ]
  },
  {
   "cell_type": "code",
   "execution_count": 45,
   "id": "58c4322f",
   "metadata": {},
   "outputs": [
    {
     "data": {
      "text/plain": [
       "False"
      ]
     },
     "execution_count": 45,
     "metadata": {},
     "output_type": "execute_result"
    }
   ],
   "source": [
    "model.private"
   ]
  },
  {
   "cell_type": "code",
   "execution_count": 52,
   "id": "4110afbb",
   "metadata": {},
   "outputs": [],
   "source": [
    "class Transaction(Model):\n",
    "    \n",
    "    def __init__(self, amount):\n",
    "        self.amount = amount\n",
    "        super().__init__()"
   ]
  },
  {
   "cell_type": "code",
   "execution_count": 53,
   "id": "203a4df7",
   "metadata": {},
   "outputs": [],
   "source": [
    "trans = Transaction(100)"
   ]
  },
  {
   "cell_type": "code",
   "execution_count": 54,
   "id": "284244ca",
   "metadata": {},
   "outputs": [
    {
     "data": {
      "text/plain": [
       "'1234weqdkjashd'"
      ]
     },
     "execution_count": 54,
     "metadata": {},
     "output_type": "execute_result"
    }
   ],
   "source": []
  },
  {
   "cell_type": "code",
   "execution_count": null,
   "id": "83495fd8",
   "metadata": {},
   "outputs": [],
   "source": []
  }
 ],
 "metadata": {
  "kernelspec": {
   "display_name": "Python 3 (ipykernel)",
   "language": "python",
   "name": "python3"
  },
  "language_info": {
   "codemirror_mode": {
    "name": "ipython",
    "version": 3
   },
   "file_extension": ".py",
   "mimetype": "text/x-python",
   "name": "python",
   "nbconvert_exporter": "python",
   "pygments_lexer": "ipython3",
   "version": "3.9.12"
  },
  "toc": {
   "base_numbering": 1,
   "nav_menu": {},
   "number_sections": true,
   "sideBar": true,
   "skip_h1_title": false,
   "title_cell": "Table of Contents",
   "title_sidebar": "Contents",
   "toc_cell": false,
   "toc_position": {},
   "toc_section_display": true,
   "toc_window_display": false
  }
 },
 "nbformat": 4,
 "nbformat_minor": 5
}
